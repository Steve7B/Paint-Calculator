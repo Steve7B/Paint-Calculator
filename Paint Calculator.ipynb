{
 "cells": [
  {
   "cell_type": "code",
   "execution_count": 6,
   "metadata": {},
   "outputs": [],
   "source": [
    "def paint_calculator():\n",
    "    length = input(\"what is the length of the room? \")\n",
    "    width = input(\"what is the width of the room? \")\n",
    "    height = input(\"what is the height of the room? \")\n",
    "    window_length = input(\"what are the length of the window? \")\n",
    "    window_height = input(\"what are the height of the window? \")\n",
    "    door_length = input(\"what are the length of the door? \")\n",
    "    door_height = input(\"what are the height of the door? \")\n",
    "    length = float(length)\n",
    "    width = float(width)\n",
    "    height = float(height)\n",
    "    window_length = float(window_length)\n",
    "    window_height = float(window_height)\n",
    "    door_length = float(door_length)\n",
    "    door_height = float(door_height)\n",
    "    area = ((length)*(width)*(height))\n",
    "    window_area = ((window_length)*(window_height))\n",
    "    door_area = ((door_length)*(door_height))\n",
    "    paint_usage = ((area)-(window_area)-(door_area))\n",
    "    print(\"you will need to use\",paint_usage,\"paint\")"
   ]
  },
  {
   "cell_type": "code",
   "execution_count": 9,
   "metadata": {},
   "outputs": [
    {
     "name": "stdout",
     "output_type": "stream",
     "text": [
      "what is the length of the room? 10\n",
      "what is the width of the room? 6\n",
      "what is the height of the room? 8\n",
      "what are the length of the window? 2\n",
      "what are the height of the window? 2\n",
      "what are the length of the door? 3\n",
      "what are the height of the door? 7\n",
      "you will need to use 455  paint\n"
     ]
    }
   ],
   "source": [
    "paint_calculator()"
   ]
  },
  {
   "cell_type": "code",
   "execution_count": 14,
   "metadata": {},
   "outputs": [
    {
     "data": {
      "text/plain": [
       "2.0"
      ]
     },
     "execution_count": 14,
     "metadata": {},
     "output_type": "execute_result"
    }
   ],
   "source": [
    "float(\"2\")"
   ]
  },
  {
   "cell_type": "code",
   "execution_count": null,
   "metadata": {},
   "outputs": [],
   "source": []
  }
 ],
 "metadata": {
  "kernelspec": {
   "display_name": "Python 3",
   "language": "python",
   "name": "python3"
  },
  "language_info": {
   "codemirror_mode": {
    "name": "ipython",
    "version": 3
   },
   "file_extension": ".py",
   "mimetype": "text/x-python",
   "name": "python",
   "nbconvert_exporter": "python",
   "pygments_lexer": "ipython3",
   "version": "3.8.3"
  }
 },
 "nbformat": 4,
 "nbformat_minor": 4
}
